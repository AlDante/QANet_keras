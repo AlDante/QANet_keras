{
 "cells": [
  {
   "cell_type": "code",
   "execution_count": 64,
   "metadata": {
    "collapsed": true
   },
   "outputs": [],
   "source": [
    "import json\n",
    "from tqdm import tqdm\n",
    "import spacy\n",
    "import numpy as np\n",
    "import random\n",
    "\n",
    "nlp = spacy.blank(\"en\")\n",
    "\n",
    "def word_tokenize(sent):\n",
    "    doc = nlp(sent)\n",
    "    return [token.text for token in doc]\n",
    "\n",
    "def convert_idx(text, tokens):\n",
    "    current = 0\n",
    "    spans = []\n",
    "    for token in tokens:\n",
    "        current = text.find(token, current)\n",
    "        if current < 0:\n",
    "            print(\"Token {} cannot be found\".format(token))\n",
    "            raise Exception()\n",
    "        spans.append((current, current + len(token)))\n",
    "        current += len(token)\n",
    "    return spans\n",
    "\n",
    "def process_file(filename, data_type, word_counter, char_counter):\n",
    "    print(\"Generating {} examples...\".format(data_type))\n",
    "    examples = []\n",
    "    eval_examples = {}\n",
    "    total = 0\n",
    "    with open(filename, \"r\") as fh:\n",
    "        source = json.load(fh)\n",
    "        for article in tqdm(source[\"data\"]):\n",
    "            for para in article[\"paragraphs\"]:\n",
    "                context = para[\"context\"].replace(\n",
    "                    \"''\", '\" ').replace(\"``\", '\" ')\n",
    "                context_tokens = word_tokenize(context)\n",
    "                context_chars = [list(token) for token in context_tokens]\n",
    "                spans = convert_idx(context, context_tokens)\n",
    "                for token in context_tokens:\n",
    "                    word_counter[token] += len(para[\"qas\"])\n",
    "                    for char in token:\n",
    "                        char_counter[char] += len(para[\"qas\"])\n",
    "                for qa in para[\"qas\"]:\n",
    "                    total += 1\n",
    "                    ques = qa[\"question\"].replace(\n",
    "                        \"''\", '\" ').replace(\"``\", '\" ')\n",
    "                    ques_tokens = word_tokenize(ques)\n",
    "                    ques_chars = [list(token) for token in ques_tokens]\n",
    "                    for token in ques_tokens:\n",
    "                        word_counter[token] += 1\n",
    "                        for char in token:\n",
    "                            char_counter[char] += 1\n",
    "                    y1s, y2s = [], []\n",
    "                    answer_texts = []\n",
    "                    for answer in qa[\"answers\"]:\n",
    "                        answer_text = answer[\"text\"]\n",
    "                        answer_start = answer['answer_start']\n",
    "                        answer_end = answer_start + len(answer_text)\n",
    "                        answer_texts.append(answer_text)\n",
    "                        answer_span = []\n",
    "                        for idx, span in enumerate(spans):\n",
    "                            if not (answer_end <= span[0] or answer_start >= span[1]):\n",
    "                                answer_span.append(idx)\n",
    "                        y1, y2 = answer_span[0], answer_span[-1]\n",
    "                        y1s.append(y1)\n",
    "                        y2s.append(y2)\n",
    "                    example = {\"context_tokens\": context_tokens, \"context_chars\": context_chars,\n",
    "                               \"ques_tokens\": ques_tokens,\n",
    "                               \"ques_chars\": ques_chars, \"y1s\": y1s, \"y2s\": y2s, \"id\": total}\n",
    "                    examples.append(example)\n",
    "                    eval_examples[str(total)] = {\n",
    "                        \"context\": context, \"spans\": spans, \"answers\": answer_texts, \"uuid\": qa[\"id\"]}\n",
    "        random.shuffle(examples)\n",
    "        print(\"{} questions in total\".format(len(examples)))\n",
    "    return examples, eval_examples\n",
    "\n",
    "def get_embedding(counter, data_type, limit=-1, emb_file=None, size=None, vec_size=None):\n",
    "    print(\"Generating {} embedding...\".format(data_type))\n",
    "    embedding_dict = {}\n",
    "    filtered_elements = [k for k, v in counter.items() if v > limit]\n",
    "    if emb_file is not None:\n",
    "        with open(emb_file, \"r\", encoding=\"utf-8\") as fh:\n",
    "            for line in tqdm(fh, total=size):\n",
    "                array = line.split()\n",
    "                word = \"\".join(array[0:-vec_size])\n",
    "                vector = list(map(float, array[-vec_size:]))\n",
    "                if word in counter and counter[word] > limit:\n",
    "                    embedding_dict[word] = vector\n",
    "        print(\"{} / {} tokens have corresponding {} embedding vector\".format(\n",
    "            len(embedding_dict), len(filtered_elements), data_type))\n",
    "    else:\n",
    "        assert vec_size is not None\n",
    "        for token in filtered_elements:\n",
    "            embedding_dict[token] = [np.random.normal(\n",
    "                scale=0.1) for _ in range(vec_size)]\n",
    "        print(\"{} tokens have corresponding embedding vector\".format(\n",
    "            len(filtered_elements)))\n",
    "\n",
    "    NULL = \"--NULL--\"\n",
    "    OOV = \"--OOV--\"\n",
    "    token2idx_dict = {token: idx for idx, token in enumerate(embedding_dict.keys(), 1)}\n",
    "    token2idx_dict[NULL] = 0\n",
    "    token2idx_dict[OOV] = len(embedding_dict)+1\n",
    "    embedding_dict[NULL] = [0. for _ in range(vec_size)]\n",
    "    embedding_dict[OOV] = np.random.random((1,vec_size))/2-0.25\n",
    "    idx2emb_dict = {idx: embedding_dict[token] for token, idx in token2idx_dict.items()}\n",
    "    emb_mat = [idx2emb_dict[idx] for idx in range(len(idx2emb_dict))]\n",
    "    return emb_mat, token2idx_dict"
   ]
  },
  {
   "cell_type": "code",
   "execution_count": 65,
   "metadata": {},
   "outputs": [
    {
     "name": "stdout",
     "output_type": "stream",
     "text": [
      "Generating train examples...\n"
     ]
    },
    {
     "name": "stderr",
     "output_type": "stream",
     "text": [
      "100%|██████████| 394/394 [01:18<00:00,  5.01it/s]\n",
      "  0%|          | 0/48 [00:00<?, ?it/s]"
     ]
    },
    {
     "name": "stdout",
     "output_type": "stream",
     "text": [
      "77811 questions in total\n",
      "Generating dev examples...\n"
     ]
    },
    {
     "name": "stderr",
     "output_type": "stream",
     "text": [
      "100%|██████████| 48/48 [00:11<00:00,  5.17it/s]"
     ]
    },
    {
     "name": "stdout",
     "output_type": "stream",
     "text": [
      "9788 questions in total\n"
     ]
    },
    {
     "name": "stderr",
     "output_type": "stream",
     "text": [
      "\n"
     ]
    }
   ],
   "source": [
    "from collections import Counter\n",
    "import numpy as np\n",
    "word_counter, char_counter = Counter(), Counter()\n",
    "train_examples, train_eval = process_file('../../data/squad/train-v1.2.json', \"train\", word_counter, char_counter)\n",
    "dev_examples, dev_eval = process_file('../../data/squad/dev-v1.2.json', \"dev\", word_counter, char_counter)"
   ]
  },
  {
   "cell_type": "code",
   "execution_count": 114,
   "metadata": {},
   "outputs": [],
   "source": [
    "# save train_eval and dev_eval\n",
    "with open('dataset/train_eval.json', \"w\") as fh:\n",
    "    json.dump(train_eval, fh)\n",
    "with open('dataset/dev_eval.json','w') as fh:\n",
    "    json.dump(dev_eval,fh)"
   ]
  },
  {
   "cell_type": "code",
   "execution_count": 69,
   "metadata": {},
   "outputs": [
    {
     "name": "stderr",
     "output_type": "stream",
     "text": [
      "  0%|          | 594/2200000 [00:00<06:10, 5938.39it/s]"
     ]
    },
    {
     "name": "stdout",
     "output_type": "stream",
     "text": [
      "Generating word embedding...\n"
     ]
    },
    {
     "name": "stderr",
     "output_type": "stream",
     "text": [
      "100%|█████████▉| 2196017/2200000 [03:18<00:00, 11078.11it/s]\n"
     ]
    },
    {
     "name": "stdout",
     "output_type": "stream",
     "text": [
      "86816 / 104509 tokens have corresponding word embedding vector\n",
      "Generating char embedding...\n",
      "1372 tokens have corresponding embedding vector\n"
     ]
    }
   ],
   "source": [
    "word_emb_mat, word2idx_dict = get_embedding(\n",
    "    word_counter, \"word\", emb_file='../../data/glove/glove.840B.300d.txt', size=int(2.2e6), vec_size=300)\n",
    "char_emb_mat, char2idx_dict = get_embedding(\n",
    "        char_counter, \"char\", emb_file=None, size=None, vec_size=200)"
   ]
  },
  {
   "cell_type": "code",
   "execution_count": null,
   "metadata": {},
   "outputs": [],
   "source": [
    "word_size=len(word_emb_mat)\n",
    "char_input_size=len(char_emb_mat)-1\n",
    "print(word_size)\n",
    "print(char_input_size)\n",
    "word_mat=np.zeros((len(word_emb_mat),len(word_emb_mat[0])))\n",
    "for i,w in enumerate(word_emb_mat):\n",
    "    word_mat[i,:]=w\n",
    "print(word_mat.shape)\n",
    "np.save('word_emb_mat.npy',word_mat)"
   ]
  },
  {
   "cell_type": "code",
   "execution_count": null,
   "metadata": {},
   "outputs": [],
   "source": [
    "import pandas as pd\n",
    "def get_indexs(exa, word2idx_dict, char2idx_dict, cont_limit=400, ques_limit=50, ans_limit=30, char_limit=16):\n",
    "    n=len(exa)\n",
    "    miss_word=0\n",
    "    miss_char=0\n",
    "    cont_index=np.zeros((n,cont_limit))\n",
    "    ques_index=np.zeros((n,ques_limit))\n",
    "    cont_char_index=np.zeros((n,cont_limit,char_limit))\n",
    "    ques_char_index=np.zeros((n,ques_limit,char_limit))\n",
    "    cont_len=np.zeros((n,1))\n",
    "    ques_len=np.zeros((n,1))\n",
    "    y_start = np.zeros((n,cont_limit))\n",
    "    y_end = np.zeros((n,cont_limit))\n",
    "    qid = np.zeros((n))\n",
    "    \n",
    "    # cont\n",
    "    for i in tqdm(range(n)):\n",
    "        qid[i]=exa[i]['id']\n",
    "        \n",
    "        contexts=exa[i]['context_tokens']\n",
    "        cont_len[i,0]=min(cont_limit,len(contexts))\n",
    "        for j,c in enumerate(contexts):\n",
    "            if j>=cont_limit:\n",
    "                break\n",
    "            if c in word2idx_dict:\n",
    "                cont_index[i,j]=word2idx_dict[c]\n",
    "            else:\n",
    "                miss_word+=1\n",
    "                cont_index[i,j]=word2idx_dict['--OOV--']\n",
    "        contexts_char=exa[i]['context_chars']\n",
    "        for j,c in enumerate(contexts_char):\n",
    "            if j>=cont_limit:\n",
    "                break\n",
    "            for j2,c2 in enumerate(c):\n",
    "                if j2>=char_limit:\n",
    "                    break\n",
    "                if c2 in char2idx_dict:\n",
    "                    cont_char_index[i,j,j2]=char2idx_dict[c2]\n",
    "                else:\n",
    "                    miss_char+=1\n",
    "                    cont_char_index[i,j,j2]=char2idx_dict['--OOV--']\n",
    "        # ans\n",
    "        st=exa[i]['y1s'][0]\n",
    "        ed=exa[i]['y2s'][0]\n",
    "        if st<cont_limit:\n",
    "            y_start[i,st]=1\n",
    "        if ed<cont_limit:\n",
    "            if ed-st>ans_limit:\n",
    "                y_end[i,st+ans_limit]=1\n",
    "            else:\n",
    "                y_end[i,ed]=1\n",
    "        \n",
    "        # ques\n",
    "        contexts=exa[i]['ques_tokens']\n",
    "        ques_len[i,0]=min(ques_limit,len(contexts))\n",
    "        for j,c in enumerate(contexts):\n",
    "            if j>=ques_limit:\n",
    "                break\n",
    "            if c in word2idx_dict:\n",
    "                ques_index[i,j]=word2idx_dict[c]\n",
    "            else:\n",
    "                miss_word+=1\n",
    "                ques_index[i,j]=word2idx_dict['--OOV--']\n",
    "        contexts_char=exa[i]['ques_chars']\n",
    "        for j,c in enumerate(contexts_char):\n",
    "            if j>=ques_limit:\n",
    "                break\n",
    "            for j2,c2 in enumerate(c):\n",
    "                if j2>=char_limit:\n",
    "                    break\n",
    "                if c2 in char2idx_dict:\n",
    "                    ques_char_index[i,j,j2]=char2idx_dict[c2]\n",
    "                else:\n",
    "                    miss_char+=1\n",
    "                    ques_char_index[i,j,j2]=char2idx_dict['--OOV--']\n",
    "    print('miss word:',miss_word)\n",
    "    print('miss char:',miss_char)\n",
    "        \n",
    "    return cont_index, ques_index, cont_char_index, ques_char_index, cont_len, ques_len, y_start, y_end, qid\n",
    "\n",
    "contw_input, quesw_input, contc_input, quesc_input, cont_len, ques_len, y_start, y_end, qid\\\n",
    "=get_indexs(train_examples, word2idx_dict, char2idx_dict)\n",
    "\n",
    "np.save('dataset/train_contw_input.npy',contw_input)\n",
    "np.save('dataset/train_quesw_input.npy',quesw_input)\n",
    "np.save('dataset/train_contc_input.npy',contc_input)\n",
    "np.save('dataset/train_quesc_input.npy',quesc_input)\n",
    "np.save('dataset/train_cont_len.npy',cont_len)\n",
    "np.save('dataset/train_ques_len.npy',ques_len)\n",
    "np.save('dataset/train_y_start.npy',y_start)\n",
    "np.save('dataset/train_y_end.npy',y_end)\n",
    "np.save('dataset/train_qid.npy',qid)\n",
    "\n",
    "contw_input, quesw_input, contc_input, quesc_input, cont_len, ques_len, y_start, y_end, qid\\\n",
    "=get_indexs(dev_examples, word2idx_dict, char2idx_dict)\n",
    "\n",
    "np.save('dataset/dev_contw_input.npy',contw_input)\n",
    "np.save('dataset/dev_quesw_input.npy',quesw_input)\n",
    "np.save('dataset/dev_contc_input.npy',contc_input)\n",
    "np.save('dataset/dev_quesc_input.npy',quesc_input)\n",
    "np.save('dataset/dev_cont_len.npy',cont_len)\n",
    "np.save('dataset/dev_ques_len.npy',ques_len)\n",
    "np.save('dataset/dev_y_start.npy',y_start)\n",
    "np.save('dataset/dev_y_end.npy',y_end)\n",
    "np.save('dataset/dev_qid.npy',qid)"
   ]
  },
  {
   "cell_type": "code",
   "execution_count": null,
   "metadata": {
    "collapsed": true
   },
   "outputs": [],
   "source": []
  }
 ],
 "metadata": {
  "kernelspec": {
   "display_name": "Python 3",
   "language": "python",
   "name": "python3"
  },
  "language_info": {
   "codemirror_mode": {
    "name": "ipython",
    "version": 3
   },
   "file_extension": ".py",
   "mimetype": "text/x-python",
   "name": "python",
   "nbconvert_exporter": "python",
   "pygments_lexer": "ipython3",
   "version": "3.6.3"
  }
 },
 "nbformat": 4,
 "nbformat_minor": 2
}
